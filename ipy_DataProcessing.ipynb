{
 "cells": [
  {
   "cell_type": "code",
   "execution_count": 7,
   "metadata": {
    "collapsed": true
   },
   "outputs": [],
   "source": []
  },
  {
   "cell_type": "code",
   "execution_count": 1,
   "metadata": {
    "collapsed": true
   },
   "outputs": [],
   "source": [
    "# Radius Filter: Returns a list of ships that are within the radius of 125m\n",
    "def withinRadiusShips(ships, ahmet):\n",
    "    withinRadiusShips = []\n",
    "    for i in ships.allShips:\n",
    "        if booleanWithinRadius(i, ahmet):\n",
    "            withinRadiusShips.append(i)\n",
    "    return withinRadiusShips\n",
    "# Direction Filter: Returns a tuple of ships moving towards Ahmet, and ships moving away\n",
    "def withinDirectionShips(withinRadiusShips, ahmet):\n",
    "    shipsTowards = []\n",
    "    shipsAway = []\n",
    "    for i in withinRadiusShips:\n",
    "        if directionCheck(i, ahmet):\n",
    "            shipsTowards.append(i)\n",
    "        else:\n",
    "            shipsAway.append(i)\n",
    "    return (shipsTowards, shipsAway)\n",
    "######################################################\n",
    "################## HELPER FUNCTIONS ##################\n",
    "######################################################\n",
    "\n",
    "\n",
    "# Returns true if ship is within radius; false otherwise\n",
    "def booleanWithinRadius(ship, ahmet):\n",
    "    lonS = ship.getLonShip\n",
    "    latS = ship.getLatShip\n",
    "    lonAhmet = Ahmet.getLonShip\n",
    "    latAhmet = Ahmet.getLatShip\n",
    "    if (distanceCalculator(lonS, latS, lonAhmet, latAhmet) > 125):\n",
    "        return false\n",
    "    return true\n",
    "\n",
    "\n",
    "# Returns a tuple of predicted longitude and latitude (in that order) IF a bearing exists\n",
    "def predictNextLatLon(ship, nexTime, bearingExists=False):\n",
    "    speedX = knotsToMps(cos(getSpeedShip(ship)))\n",
    "    speedY = knotsToMps(sin(getSpeedShip(ship)))\n",
    "    diffTime = timeDifferenceSeconds(getTimeShip(ship), nexTime)\n",
    "    diffX = mtoCoor(speedX * diffTime)    # should be in coor\n",
    "    diffY = mtoCoor(speedY * diffTime)    # should be in coor\n",
    "    newLon = getLonShip(ship) + diffX\n",
    "    newLat = getLatShip(ship) + diffY\n",
    "    return newLon, newLat\n",
    "\n",
    "# Returns the distance between ship and Ahmet\n",
    "# Source: https://stackoverflow.com/questions/639695/how-to-convert-latitude-or-longitude-to-meters\n",
    "def distanceCalculator(lon1, lat1, lon2, lat2):\n",
    "    R = 6378.137\n",
    "    dLon = lon2 * math.pi / 180 - lon1 * math.pi / 180\n",
    "    dLat = lat2 * math.pi / 180 - lat1 * math.pi / 180\n",
    "    a = math.sin(dLat / 2) * math.sin(dLat / 2) \\\n",
    "        + math.cos(lat1 * math.pi / 180) * math.cos(lat2 * math.pi / 180) \\\n",
    "        * math.sin(dLon/2) * math.sin(dLon / 2)\n",
    "    c = 2 * math.atan2(math.sqrt(a), math.sqrt(1-a))\n",
    "    d = R * c\n",
    "    return d * 1000\n",
    "\n",
    "# Returns true if ship is travelling towards Ahmet; false otherwise\n",
    "def directionCheck(ship, ahmet):\n",
    "    oldLat = getLatShip(ship)\n",
    "    oldLon = getLonShip(ship)\n",
    "    # Check if heading is \n",
    "    newLat = predictNextLatLon(ship, getShipTimeStamp(ship))[0]\n",
    "    newLon = predictNextLatLon(ship, getShipTimeStamp(ship))[1]\n",
    "    if distanceCalculator(ahmetPosition.lon, ahmetPosition.lat, newLon, newLat) \\\n",
    "        < distanceCalculator(ahmetPosition.lon, ahmetPosition.lat, oldLon, oldLat):\n",
    "        return true\n",
    "    return false\n",
    "\n",
    "# calculates bearing given two time points.\n",
    "\n"
   ]
  },
  {
   "cell_type": "code",
   "execution_count": 10,
   "metadata": {
    "collapsed": true
   },
   "outputs": [],
   "source": []
  },
  {
   "cell_type": "code",
   "execution_count": null,
   "metadata": {
    "collapsed": true
   },
   "outputs": [],
   "source": []
  }
 ],
 "metadata": {
  "kernelspec": {
   "display_name": "Python 3",
   "language": "python",
   "name": "python3"
  },
  "language_info": {
   "codemirror_mode": {
    "name": "ipython",
    "version": 3
   },
   "file_extension": ".py",
   "mimetype": "text/x-python",
   "name": "python",
   "nbconvert_exporter": "python",
   "pygments_lexer": "ipython3",
   "version": "3.6.3"
  }
 },
 "nbformat": 4,
 "nbformat_minor": 2
}
