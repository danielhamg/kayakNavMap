{
 "cells": [
  {
   "cell_type": "code",
   "execution_count": null,
   "metadata": {
    "collapsed": true
   },
   "outputs": [],
   "source": [
    "class Ahmet:\n",
    "    def __init__(self, lon, lat):\n",
    "        self.lon = lon\n",
    "        self.lat = lat\n",
    "        self.coordSoFar = [(lon, lat)]\n",
    "        self.coordIndex = 0\n",
    "\n",
    "    def updateCoord(lon, lat):\n",
    "        self.lon = lon\n",
    "        self.lat = lat\n",
    "        self.coordSoFar.append((lon, lat))\n",
    "        self.coordIndex += 1\n",
    "\n",
    "    def latestCoord():\n",
    "        return self.coordSoFar[coordIndex]\n",
    "\n",
    "    def prevCoord():\n",
    "        return self.coordSoFar[coordIndex - 1]\n"
   ]
  }
 ],
 "metadata": {
  "kernelspec": {
   "display_name": "Python 3",
   "language": "python",
   "name": "python3"
  },
  "language_info": {
   "codemirror_mode": {
    "name": "ipython",
    "version": 3
   },
   "file_extension": ".py",
   "mimetype": "text/x-python",
   "name": "python",
   "nbconvert_exporter": "python",
   "pygments_lexer": "ipython3",
   "version": "3.6.3"
  }
 },
 "nbformat": 4,
 "nbformat_minor": 2
}
