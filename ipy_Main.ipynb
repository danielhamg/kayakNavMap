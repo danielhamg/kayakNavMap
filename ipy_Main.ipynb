{
 "cells": [
  {
   "cell_type": "code",
   "execution_count": 3,
   "metadata": {},
   "outputs": [
    {
     "ename": "NameError",
     "evalue": "name 'true' is not defined",
     "output_type": "error",
     "traceback": [
      "\u001b[1;31m---------------------------------------------------------------------------\u001b[0m",
      "\u001b[1;31mNameError\u001b[0m                                 Traceback (most recent call last)",
      "\u001b[1;32m<ipython-input-3-60eb1e315c68>\u001b[0m in \u001b[0;36m<module>\u001b[1;34m()\u001b[0m\n\u001b[0;32m     14\u001b[0m         \u001b[0mpastShips\u001b[0m \u001b[1;33m=\u001b[0m \u001b[1;33m[\u001b[0m\u001b[1;33m]\u001b[0m\u001b[1;33m\u001b[0m\u001b[0m\n\u001b[0;32m     15\u001b[0m \u001b[1;33m\u001b[0m\u001b[0m\n\u001b[1;32m---> 16\u001b[1;33m \u001b[1;32mwhile\u001b[0m \u001b[0mtrue\u001b[0m\u001b[1;33m:\u001b[0m\u001b[1;33m\u001b[0m\u001b[0m\n\u001b[0m\u001b[0;32m     17\u001b[0m     \u001b[1;31m# Phase 1: Data gathering\u001b[0m\u001b[1;33m\u001b[0m\u001b[1;33m\u001b[0m\u001b[0m\n\u001b[0;32m     18\u001b[0m     \u001b[0mmainRunner\u001b[0m \u001b[1;33m=\u001b[0m \u001b[0mMain\u001b[0m\u001b[1;33m(\u001b[0m\u001b[1;33m)\u001b[0m\u001b[1;33m\u001b[0m\u001b[0m\n",
      "\u001b[1;31mNameError\u001b[0m: name 'true' is not defined"
     ]
    }
   ],
   "source": [
    "from requests import get\n",
    "import time\n",
    "import json\n",
    "\n",
    "class Main:\n",
    "    def __init__():\n",
    "        file = get(\"https://services.marinetraffic.com/api/exportvessels/v:8/2bede1ff947de189f635a8781c0d606b455f61b4/timespan:2/protocol:json\")\n",
    "        file = \"SampleData_4_9__10-09am.txt\" # Sample data; not sure if syntax is correct\n",
    "        jsonObj = json.loads(file.text)\n",
    "\n",
    "        self.currentShips = Ships(jsonObj)\n",
    "        self.Ahmet = Ahmet(40, 40) # Arbitrary\n",
    "\n",
    "        pastShips = []\n",
    "\n",
    "while true:\n",
    "    # Phase 1: Data gathering\n",
    "    mainRunner = Main()\n",
    "\n",
    "    # Phase 2A: Base filter of ships within radius\n",
    "    shipsWithinRadius = withinRadiusShips(mainRunner.currentShips.allShips, mainRunner.currentAhmet)\n",
    "    print(shipsWithinRadius)\n",
    "\n",
    "    # Phase 2B: Direction filter\n",
    "    shipsDirectionTuple = withinDirectionShips(shipsWithinRadius, ahmet)\n",
    "    shipsTowards = shipsDirectionTuple[0]\n",
    "    shipsAway = shipsDirectionTuple[1]\n",
    "    print(shipsTowards, shipsAway)\n",
    "\n",
    "    # Phase 3: Alert Ahmet if he presses the button\n",
    "\n",
    "\n",
    "    # REPEAT: Delay for 5 minutes\n",
    "    time.sleep(300)\n",
    "\n",
    "# predicting header for the ships\n",
    "# keep track of past ships\n",
    "# testing \n"
   ]
  },
  {
   "cell_type": "code",
   "execution_count": null,
   "metadata": {
    "collapsed": true
   },
   "outputs": [],
   "source": []
  }
 ],
 "metadata": {
  "kernelspec": {
   "display_name": "Python 3",
   "language": "python",
   "name": "python3"
  },
  "language_info": {
   "codemirror_mode": {
    "name": "ipython",
    "version": 3
   },
   "file_extension": ".py",
   "mimetype": "text/x-python",
   "name": "python",
   "nbconvert_exporter": "python",
   "pygments_lexer": "ipython3",
   "version": "3.6.3"
  }
 },
 "nbformat": 4,
 "nbformat_minor": 2
}
